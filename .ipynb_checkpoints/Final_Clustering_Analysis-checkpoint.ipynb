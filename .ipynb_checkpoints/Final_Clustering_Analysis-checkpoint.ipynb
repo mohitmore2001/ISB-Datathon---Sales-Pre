{
 "cells": [
  {
   "cell_type": "code",
   "execution_count": 1,
   "id": "51918dbc",
   "metadata": {},
   "outputs": [],
   "source": [
    "import pandas as pd\n",
    "import numpy as np\n",
    "from scipy.stats import mode"
   ]
  },
  {
   "cell_type": "code",
   "execution_count": 2,
   "id": "6b376b70",
   "metadata": {
    "scrolled": true
   },
   "outputs": [
    {
     "name": "stderr",
     "output_type": "stream",
     "text": [
      "C:\\Users\\DELL\\anaconda3\\lib\\site-packages\\IPython\\core\\interactiveshell.py:3165: DtypeWarning: Columns (10,12) have mixed types.Specify dtype option on import or set low_memory=False.\n",
      "  has_raised = await self.run_ast_nodes(code_ast.body, cell_name,\n"
     ]
    }
   ],
   "source": [
    "data_sales = pd.read_csv('sales.csv',parse_dates=['date'])"
   ]
  },
  {
   "cell_type": "code",
   "execution_count": 3,
   "id": "626faf61",
   "metadata": {},
   "outputs": [],
   "source": [
    "data_product_hierarchy = pd.read_csv('product_hierarchy.csv')"
   ]
  },
  {
   "cell_type": "code",
   "execution_count": 4,
   "id": "a1ce7042",
   "metadata": {},
   "outputs": [],
   "source": [
    "data_store_cities = pd.read_csv('store_cities.csv')"
   ]
  },
  {
   "cell_type": "markdown",
   "id": "bf27a525",
   "metadata": {},
   "source": [
    "## Filling Nas for product hierarchy"
   ]
  },
  {
   "cell_type": "code",
   "execution_count": 5,
   "id": "79edf089",
   "metadata": {},
   "outputs": [],
   "source": [
    "data_product_hierarchy['product_length'].fillna(data_product_hierarchy['product_length'].mean(),inplace = True)\n",
    "data_product_hierarchy['product_depth'].fillna(data_product_hierarchy['product_depth'].mean(),inplace = True)\n",
    "data_product_hierarchy['product_width'].fillna(data_product_hierarchy['product_width'].mean(),inplace = True)\n",
    "data_product_hierarchy['cluster_id'].fillna(mode(data_product_hierarchy['cluster_id'])[0][0],inplace = True)"
   ]
  },
  {
   "cell_type": "code",
   "execution_count": 6,
   "id": "dadaf372",
   "metadata": {
    "scrolled": true
   },
   "outputs": [
    {
     "data": {
      "text/plain": [
       "product_id        0\n",
       "product_length    0\n",
       "product_depth     0\n",
       "product_width     0\n",
       "cluster_id        0\n",
       "hierarchy1_id     0\n",
       "hierarchy2_id     0\n",
       "hierarchy3_id     0\n",
       "hierarchy4_id     0\n",
       "hierarchy5_id     0\n",
       "dtype: int64"
      ]
     },
     "execution_count": 6,
     "metadata": {},
     "output_type": "execute_result"
    }
   ],
   "source": [
    "data_product_hierarchy.isnull().sum()"
   ]
  },
  {
   "cell_type": "markdown",
   "id": "34c763cf",
   "metadata": {},
   "source": [
    "## Filling Nas for price"
   ]
  },
  {
   "cell_type": "code",
   "execution_count": 7,
   "id": "58257d2e",
   "metadata": {},
   "outputs": [],
   "source": [
    "dict_price = {}\n",
    "for i, x in enumerate(data_sales['product_id']):\n",
    "    if (x not in dict_price.keys() and not(np.isnan(data_sales['price'][i]))):\n",
    "        dict_price[x]=data_sales['price'][i]"
   ]
  },
  {
   "cell_type": "code",
   "execution_count": 8,
   "id": "b5d0a8e2",
   "metadata": {
    "scrolled": false
   },
   "outputs": [
    {
     "data": {
      "text/plain": [
       "product_id                      0\n",
       "store_id                        0\n",
       "date                            0\n",
       "sales                     1190762\n",
       "revenue                   1190762\n",
       "stock                     1190762\n",
       "price                       10444\n",
       "promo_type_1                    0\n",
       "promo_bin_1              16803149\n",
       "promo_type_2                    0\n",
       "promo_bin_2              19395757\n",
       "promo_discount_2         19395757\n",
       "promo_discount_type_2    19395757\n",
       "dtype: int64"
      ]
     },
     "execution_count": 8,
     "metadata": {},
     "output_type": "execute_result"
    }
   ],
   "source": [
    "data_sales.price = data_sales.price.fillna(data_sales.product_id.map(dict_price))\n",
    "\n",
    "data_sales.isna().sum()"
   ]
  },
  {
   "cell_type": "code",
   "execution_count": 9,
   "id": "68443772",
   "metadata": {},
   "outputs": [],
   "source": [
    "data_sales['price'].fillna(data_sales['price'].mean(),inplace = True)"
   ]
  },
  {
   "cell_type": "markdown",
   "id": "6d887189",
   "metadata": {},
   "source": [
    "# Filling sales,revenue,stock and price by "
   ]
  },
  {
   "cell_type": "code",
   "execution_count": 10,
   "id": "7deafdaf",
   "metadata": {},
   "outputs": [
    {
     "data": {
      "text/plain": [
       "product_id                      0\n",
       "store_id                        0\n",
       "date                            0\n",
       "sales                     1190762\n",
       "revenue                   1190762\n",
       "stock                     1190762\n",
       "price                           0\n",
       "promo_type_1                    0\n",
       "promo_bin_1              16803149\n",
       "promo_type_2                    0\n",
       "promo_bin_2              19395757\n",
       "promo_discount_2         19395757\n",
       "promo_discount_type_2    19395757\n",
       "dtype: int64"
      ]
     },
     "execution_count": 10,
     "metadata": {},
     "output_type": "execute_result"
    }
   ],
   "source": [
    "data_sales.isna().sum()"
   ]
  },
  {
   "cell_type": "markdown",
   "id": "1c2aff41",
   "metadata": {},
   "source": [
    "## Filling Nas for promos"
   ]
  },
  {
   "cell_type": "code",
   "execution_count": 11,
   "id": "ecdd47ad",
   "metadata": {},
   "outputs": [],
   "source": [
    "data_sales['promo_bin_1'].fillna(0,inplace= True)\n",
    "data_sales['promo_bin_2'].fillna(0,inplace= True)\n",
    "data_sales['promo_discount_2'].fillna(0,inplace= True)\n",
    "data_sales['promo_discount_type_2'].fillna(0,inplace= True)"
   ]
  },
  {
   "cell_type": "code",
   "execution_count": 12,
   "id": "95de4e89",
   "metadata": {},
   "outputs": [],
   "source": [
    "data_sales.dropna(inplace=True)"
   ]
  },
  {
   "cell_type": "code",
   "execution_count": 13,
   "id": "bcc93281",
   "metadata": {
    "scrolled": false
   },
   "outputs": [
    {
     "data": {
      "text/plain": [
       "product_id               0\n",
       "store_id                 0\n",
       "date                     0\n",
       "sales                    0\n",
       "revenue                  0\n",
       "stock                    0\n",
       "price                    0\n",
       "promo_type_1             0\n",
       "promo_bin_1              0\n",
       "promo_type_2             0\n",
       "promo_bin_2              0\n",
       "promo_discount_2         0\n",
       "promo_discount_type_2    0\n",
       "dtype: int64"
      ]
     },
     "execution_count": 13,
     "metadata": {},
     "output_type": "execute_result"
    }
   ],
   "source": [
    "data_sales.isna().sum()"
   ]
  },
  {
   "cell_type": "markdown",
   "id": "e4e22206",
   "metadata": {},
   "source": [
    "## Categorical to Numerical"
   ]
  },
  {
   "cell_type": "markdown",
   "id": "ec498320",
   "metadata": {},
   "source": [
    "#### promo_type_1"
   ]
  },
  {
   "cell_type": "code",
   "execution_count": 14,
   "id": "cde98e5e",
   "metadata": {
    "scrolled": true
   },
   "outputs": [
    {
     "data": {
      "text/plain": [
       "array(['PR14', 'PR05', 'PR10', 'PR03', 'PR06', 'PR07', 'PR12', 'PR17',\n",
       "       'PR08', 'PR13', 'PR09', 'PR16', 'PR15', 'PR01', 'PR18', 'PR11',\n",
       "       'PR04'], dtype=object)"
      ]
     },
     "execution_count": 14,
     "metadata": {},
     "output_type": "execute_result"
    }
   ],
   "source": [
    "data_sales['promo_type_1'].unique()"
   ]
  },
  {
   "cell_type": "code",
   "execution_count": 15,
   "id": "4bcd6d8b",
   "metadata": {},
   "outputs": [],
   "source": [
    "encode_dict_type_1 = {\n",
    "    'PR01':1,\n",
    "    'PR03':3,\n",
    "    'PR04':4,\n",
    "    'PR05':5,\n",
    "    'PR06':6,\n",
    "    'PR07':7,\n",
    "    'PR08':8,\n",
    "    'PR09':9,\n",
    "    'PR10':10,\n",
    "    'PR11':11,\n",
    "    'PR12':12,\n",
    "    'PR13':13,\n",
    "    'PR14':14,\n",
    "    'PR15':15,\n",
    "    'PR16':16,\n",
    "    'PR17':17,\n",
    "    'PR18':18\n",
    "}\n",
    "\n",
    "data_sales['promo_type_1'].replace(encode_dict_type_1,inplace=True)"
   ]
  },
  {
   "cell_type": "markdown",
   "id": "a7d99d9a",
   "metadata": {},
   "source": [
    "#### promo_bin_1"
   ]
  },
  {
   "cell_type": "code",
   "execution_count": 16,
   "id": "9df4466b",
   "metadata": {},
   "outputs": [
    {
     "data": {
      "text/plain": [
       "array([0, 'high', 'verylow', 'veryhigh', 'moderate', 'low'], dtype=object)"
      ]
     },
     "execution_count": 16,
     "metadata": {},
     "output_type": "execute_result"
    }
   ],
   "source": [
    "data_sales['promo_bin_1'].unique()"
   ]
  },
  {
   "cell_type": "code",
   "execution_count": 17,
   "id": "57166d17",
   "metadata": {},
   "outputs": [],
   "source": [
    "encode_dict = {\n",
    "    'verylow':1,\n",
    "    'low':2,\n",
    "    'moderate':3,\n",
    "    'high':4,\n",
    "    'veryhigh':5\n",
    "}\n",
    "\n",
    "data_sales['promo_bin_1'].replace(encode_dict,inplace=True)"
   ]
  },
  {
   "cell_type": "markdown",
   "id": "1f6a0f5d",
   "metadata": {},
   "source": [
    "#### promo_type_2"
   ]
  },
  {
   "cell_type": "code",
   "execution_count": 18,
   "id": "3c284c3a",
   "metadata": {},
   "outputs": [
    {
     "data": {
      "text/plain": [
       "array(['PR03', 'PR02', 'PR01', 'PR04'], dtype=object)"
      ]
     },
     "execution_count": 18,
     "metadata": {},
     "output_type": "execute_result"
    }
   ],
   "source": [
    "data_sales['promo_type_2'].unique()"
   ]
  },
  {
   "cell_type": "code",
   "execution_count": 19,
   "id": "fd86d0b0",
   "metadata": {},
   "outputs": [],
   "source": [
    "encode_dict_type_2 = {'PR01':1,\n",
    "                     'PR02':2,\n",
    "                     'PR03':3,\n",
    "                     'PR04':4}\n",
    "\n",
    "data_sales['promo_type_2'].replace(encode_dict_type_2,inplace=True)"
   ]
  },
  {
   "cell_type": "markdown",
   "id": "8013a0be",
   "metadata": {},
   "source": [
    "#### promo_bin_2"
   ]
  },
  {
   "cell_type": "code",
   "execution_count": 20,
   "id": "7923fcc7",
   "metadata": {},
   "outputs": [
    {
     "data": {
      "text/plain": [
       "array([0, 'verylow', 'high', 'veryhigh'], dtype=object)"
      ]
     },
     "execution_count": 20,
     "metadata": {},
     "output_type": "execute_result"
    }
   ],
   "source": [
    "data_sales['promo_bin_2'].unique()"
   ]
  },
  {
   "cell_type": "code",
   "execution_count": 21,
   "id": "3a6575ff",
   "metadata": {},
   "outputs": [],
   "source": [
    "encode_dict_bin_2 = {\n",
    "    'verylow':1,\n",
    "    'low':2,\n",
    "    'high':3,\n",
    "    'veryhigh':4\n",
    "}\n",
    "\n",
    "\n",
    "data_sales['promo_bin_2'].replace(encode_dict_bin_2,inplace=True)"
   ]
  },
  {
   "cell_type": "markdown",
   "id": "74abfd1b",
   "metadata": {},
   "source": [
    "#### promo_discount_type_2"
   ]
  },
  {
   "cell_type": "code",
   "execution_count": 22,
   "id": "66cc0a1d",
   "metadata": {},
   "outputs": [
    {
     "data": {
      "text/plain": [
       "array([0, 'PR04', 'PR02', 'PR01', 'PR03'], dtype=object)"
      ]
     },
     "execution_count": 22,
     "metadata": {},
     "output_type": "execute_result"
    }
   ],
   "source": [
    "data_sales['promo_discount_type_2'].unique()"
   ]
  },
  {
   "cell_type": "code",
   "execution_count": 23,
   "id": "d3dd55dc",
   "metadata": {},
   "outputs": [],
   "source": [
    "encode_discount_type_2 = {'PR01':1,\n",
    "                     'PR02':2,\n",
    "                     'PR03':3,\n",
    "                     'PR04':4}\n",
    "\n",
    "data_sales['promo_discount_type_2'].replace(encode_discount_type_2,inplace=True)"
   ]
  },
  {
   "cell_type": "markdown",
   "id": "a39290cd",
   "metadata": {},
   "source": [
    "## Weekly Data Conversion"
   ]
  },
  {
   "cell_type": "code",
   "execution_count": 51,
   "id": "84bc95c5",
   "metadata": {},
   "outputs": [
    {
     "data": {
      "text/html": [
       "<div>\n",
       "<style scoped>\n",
       "    .dataframe tbody tr th:only-of-type {\n",
       "        vertical-align: middle;\n",
       "    }\n",
       "\n",
       "    .dataframe tbody tr th {\n",
       "        vertical-align: top;\n",
       "    }\n",
       "\n",
       "    .dataframe thead th {\n",
       "        text-align: right;\n",
       "    }\n",
       "</style>\n",
       "<table border=\"1\" class=\"dataframe\">\n",
       "  <thead>\n",
       "    <tr style=\"text-align: right;\">\n",
       "      <th></th>\n",
       "      <th>product_id</th>\n",
       "      <th>store_id</th>\n",
       "      <th>date</th>\n",
       "      <th>sales</th>\n",
       "      <th>revenue</th>\n",
       "      <th>stock</th>\n",
       "      <th>price</th>\n",
       "      <th>promo_type_1</th>\n",
       "      <th>promo_bin_1</th>\n",
       "      <th>promo_type_2</th>\n",
       "      <th>promo_bin_2</th>\n",
       "      <th>promo_discount_2</th>\n",
       "      <th>promo_discount_type_2</th>\n",
       "    </tr>\n",
       "  </thead>\n",
       "  <tbody>\n",
       "    <tr>\n",
       "      <th>0</th>\n",
       "      <td>P0001</td>\n",
       "      <td>S0001</td>\n",
       "      <td>2017-02-12</td>\n",
       "      <td>2.0</td>\n",
       "      <td>11.02</td>\n",
       "      <td>0.0</td>\n",
       "      <td>13.0</td>\n",
       "      <td>28</td>\n",
       "      <td>0</td>\n",
       "      <td>6</td>\n",
       "      <td>0</td>\n",
       "      <td>0.0</td>\n",
       "      <td>0</td>\n",
       "    </tr>\n",
       "    <tr>\n",
       "      <th>1</th>\n",
       "      <td>P0001</td>\n",
       "      <td>S0001</td>\n",
       "      <td>2017-02-19</td>\n",
       "      <td>0.0</td>\n",
       "      <td>0.00</td>\n",
       "      <td>0.0</td>\n",
       "      <td>0.0</td>\n",
       "      <td>0</td>\n",
       "      <td>0</td>\n",
       "      <td>0</td>\n",
       "      <td>0</td>\n",
       "      <td>0.0</td>\n",
       "      <td>0</td>\n",
       "    </tr>\n",
       "    <tr>\n",
       "      <th>2</th>\n",
       "      <td>P0001</td>\n",
       "      <td>S0001</td>\n",
       "      <td>2017-02-26</td>\n",
       "      <td>1.0</td>\n",
       "      <td>5.51</td>\n",
       "      <td>0.0</td>\n",
       "      <td>6.5</td>\n",
       "      <td>14</td>\n",
       "      <td>0</td>\n",
       "      <td>3</td>\n",
       "      <td>0</td>\n",
       "      <td>0.0</td>\n",
       "      <td>0</td>\n",
       "    </tr>\n",
       "    <tr>\n",
       "      <th>3</th>\n",
       "      <td>P0001</td>\n",
       "      <td>S0001</td>\n",
       "      <td>2017-03-05</td>\n",
       "      <td>0.0</td>\n",
       "      <td>0.00</td>\n",
       "      <td>0.0</td>\n",
       "      <td>0.0</td>\n",
       "      <td>0</td>\n",
       "      <td>0</td>\n",
       "      <td>0</td>\n",
       "      <td>0</td>\n",
       "      <td>0.0</td>\n",
       "      <td>0</td>\n",
       "    </tr>\n",
       "    <tr>\n",
       "      <th>4</th>\n",
       "      <td>P0001</td>\n",
       "      <td>S0001</td>\n",
       "      <td>2017-03-12</td>\n",
       "      <td>0.0</td>\n",
       "      <td>0.00</td>\n",
       "      <td>0.0</td>\n",
       "      <td>0.0</td>\n",
       "      <td>0</td>\n",
       "      <td>0</td>\n",
       "      <td>0</td>\n",
       "      <td>0</td>\n",
       "      <td>0.0</td>\n",
       "      <td>0</td>\n",
       "    </tr>\n",
       "    <tr>\n",
       "      <th>...</th>\n",
       "      <td>...</td>\n",
       "      <td>...</td>\n",
       "      <td>...</td>\n",
       "      <td>...</td>\n",
       "      <td>...</td>\n",
       "      <td>...</td>\n",
       "      <td>...</td>\n",
       "      <td>...</td>\n",
       "      <td>...</td>\n",
       "      <td>...</td>\n",
       "      <td>...</td>\n",
       "      <td>...</td>\n",
       "      <td>...</td>\n",
       "    </tr>\n",
       "    <tr>\n",
       "      <th>2967854</th>\n",
       "      <td>P0748</td>\n",
       "      <td>S0142</td>\n",
       "      <td>2019-10-06</td>\n",
       "      <td>2.0</td>\n",
       "      <td>35.00</td>\n",
       "      <td>119.0</td>\n",
       "      <td>132.3</td>\n",
       "      <td>98</td>\n",
       "      <td>0</td>\n",
       "      <td>21</td>\n",
       "      <td>0</td>\n",
       "      <td>0.0</td>\n",
       "      <td>0</td>\n",
       "    </tr>\n",
       "    <tr>\n",
       "      <th>2967855</th>\n",
       "      <td>P0748</td>\n",
       "      <td>S0142</td>\n",
       "      <td>2019-10-13</td>\n",
       "      <td>0.0</td>\n",
       "      <td>0.00</td>\n",
       "      <td>112.0</td>\n",
       "      <td>132.3</td>\n",
       "      <td>98</td>\n",
       "      <td>0</td>\n",
       "      <td>21</td>\n",
       "      <td>0</td>\n",
       "      <td>0.0</td>\n",
       "      <td>0</td>\n",
       "    </tr>\n",
       "    <tr>\n",
       "      <th>2967856</th>\n",
       "      <td>P0748</td>\n",
       "      <td>S0142</td>\n",
       "      <td>2019-10-20</td>\n",
       "      <td>0.0</td>\n",
       "      <td>0.00</td>\n",
       "      <td>112.0</td>\n",
       "      <td>132.3</td>\n",
       "      <td>98</td>\n",
       "      <td>0</td>\n",
       "      <td>21</td>\n",
       "      <td>0</td>\n",
       "      <td>0.0</td>\n",
       "      <td>0</td>\n",
       "    </tr>\n",
       "    <tr>\n",
       "      <th>2967857</th>\n",
       "      <td>P0748</td>\n",
       "      <td>S0142</td>\n",
       "      <td>2019-10-27</td>\n",
       "      <td>0.0</td>\n",
       "      <td>0.00</td>\n",
       "      <td>112.0</td>\n",
       "      <td>132.3</td>\n",
       "      <td>98</td>\n",
       "      <td>0</td>\n",
       "      <td>21</td>\n",
       "      <td>0</td>\n",
       "      <td>0.0</td>\n",
       "      <td>0</td>\n",
       "    </tr>\n",
       "    <tr>\n",
       "      <th>2967858</th>\n",
       "      <td>P0748</td>\n",
       "      <td>S0142</td>\n",
       "      <td>2019-11-03</td>\n",
       "      <td>0.0</td>\n",
       "      <td>0.00</td>\n",
       "      <td>64.0</td>\n",
       "      <td>75.6</td>\n",
       "      <td>56</td>\n",
       "      <td>0</td>\n",
       "      <td>12</td>\n",
       "      <td>0</td>\n",
       "      <td>0.0</td>\n",
       "      <td>0</td>\n",
       "    </tr>\n",
       "  </tbody>\n",
       "</table>\n",
       "<p>2967859 rows × 13 columns</p>\n",
       "</div>"
      ],
      "text/plain": [
       "        product_id store_id       date  sales  revenue  stock  price  \\\n",
       "0            P0001    S0001 2017-02-12    2.0    11.02    0.0   13.0   \n",
       "1            P0001    S0001 2017-02-19    0.0     0.00    0.0    0.0   \n",
       "2            P0001    S0001 2017-02-26    1.0     5.51    0.0    6.5   \n",
       "3            P0001    S0001 2017-03-05    0.0     0.00    0.0    0.0   \n",
       "4            P0001    S0001 2017-03-12    0.0     0.00    0.0    0.0   \n",
       "...            ...      ...        ...    ...      ...    ...    ...   \n",
       "2967854      P0748    S0142 2019-10-06    2.0    35.00  119.0  132.3   \n",
       "2967855      P0748    S0142 2019-10-13    0.0     0.00  112.0  132.3   \n",
       "2967856      P0748    S0142 2019-10-20    0.0     0.00  112.0  132.3   \n",
       "2967857      P0748    S0142 2019-10-27    0.0     0.00  112.0  132.3   \n",
       "2967858      P0748    S0142 2019-11-03    0.0     0.00   64.0   75.6   \n",
       "\n",
       "         promo_type_1  promo_bin_1  promo_type_2  promo_bin_2  \\\n",
       "0                  28            0             6            0   \n",
       "1                   0            0             0            0   \n",
       "2                  14            0             3            0   \n",
       "3                   0            0             0            0   \n",
       "4                   0            0             0            0   \n",
       "...               ...          ...           ...          ...   \n",
       "2967854            98            0            21            0   \n",
       "2967855            98            0            21            0   \n",
       "2967856            98            0            21            0   \n",
       "2967857            98            0            21            0   \n",
       "2967858            56            0            12            0   \n",
       "\n",
       "         promo_discount_2  promo_discount_type_2  \n",
       "0                     0.0                      0  \n",
       "1                     0.0                      0  \n",
       "2                     0.0                      0  \n",
       "3                     0.0                      0  \n",
       "4                     0.0                      0  \n",
       "...                   ...                    ...  \n",
       "2967854               0.0                      0  \n",
       "2967855               0.0                      0  \n",
       "2967856               0.0                      0  \n",
       "2967857               0.0                      0  \n",
       "2967858               0.0                      0  \n",
       "\n",
       "[2967859 rows x 13 columns]"
      ]
     },
     "execution_count": 51,
     "metadata": {},
     "output_type": "execute_result"
    }
   ],
   "source": [
    "#Converting to weekly data\n",
    "\n",
    "weekly_data = data_sales.groupby(['product_id','store_id']).resample('W', label='right', closed = 'right', on='date').sum().reset_index()\n",
    "weekly_data"
   ]
  },
  {
   "cell_type": "code",
   "execution_count": 52,
   "id": "a68a354e",
   "metadata": {},
   "outputs": [],
   "source": [
    "weekly_data = weekly_data.drop(['price'],axis = 1)"
   ]
  },
  {
   "cell_type": "code",
   "execution_count": 53,
   "id": "50a7f824",
   "metadata": {},
   "outputs": [],
   "source": [
    "price = []\n",
    "for x in weekly_data['product_id']:\n",
    "    if x in dict_price.keys():\n",
    "        price.append(dict_price[x])\n",
    "    else :\n",
    "        price.append(np.nan)\n",
    "\n",
    "weekly_data['price'] = price\n",
    "weekly_data['price'].fillna(method = 'ffill',inplace = True)"
   ]
  },
  {
   "cell_type": "code",
   "execution_count": 54,
   "id": "b6175983",
   "metadata": {},
   "outputs": [
    {
     "data": {
      "text/html": [
       "<div>\n",
       "<style scoped>\n",
       "    .dataframe tbody tr th:only-of-type {\n",
       "        vertical-align: middle;\n",
       "    }\n",
       "\n",
       "    .dataframe tbody tr th {\n",
       "        vertical-align: top;\n",
       "    }\n",
       "\n",
       "    .dataframe thead th {\n",
       "        text-align: right;\n",
       "    }\n",
       "</style>\n",
       "<table border=\"1\" class=\"dataframe\">\n",
       "  <thead>\n",
       "    <tr style=\"text-align: right;\">\n",
       "      <th></th>\n",
       "      <th>product_id</th>\n",
       "      <th>store_id</th>\n",
       "      <th>date</th>\n",
       "      <th>sales</th>\n",
       "      <th>revenue</th>\n",
       "      <th>stock</th>\n",
       "      <th>promo_type_1</th>\n",
       "      <th>promo_bin_1</th>\n",
       "      <th>promo_type_2</th>\n",
       "      <th>promo_bin_2</th>\n",
       "      <th>promo_discount_2</th>\n",
       "      <th>promo_discount_type_2</th>\n",
       "      <th>price</th>\n",
       "    </tr>\n",
       "  </thead>\n",
       "  <tbody>\n",
       "    <tr>\n",
       "      <th>361961</th>\n",
       "      <td>P0103</td>\n",
       "      <td>S0097</td>\n",
       "      <td>2017-04-16</td>\n",
       "      <td>43396.0</td>\n",
       "      <td>84448.191</td>\n",
       "      <td>627.0</td>\n",
       "      <td>98</td>\n",
       "      <td>0</td>\n",
       "      <td>21</td>\n",
       "      <td>0</td>\n",
       "      <td>0.0</td>\n",
       "      <td>0</td>\n",
       "      <td>2.65</td>\n",
       "    </tr>\n",
       "    <tr>\n",
       "      <th>361955</th>\n",
       "      <td>P0103</td>\n",
       "      <td>S0097</td>\n",
       "      <td>2017-03-05</td>\n",
       "      <td>27725.0</td>\n",
       "      <td>52667.809</td>\n",
       "      <td>452.0</td>\n",
       "      <td>98</td>\n",
       "      <td>0</td>\n",
       "      <td>21</td>\n",
       "      <td>0</td>\n",
       "      <td>0.0</td>\n",
       "      <td>0</td>\n",
       "      <td>2.65</td>\n",
       "    </tr>\n",
       "    <tr>\n",
       "      <th>361954</th>\n",
       "      <td>P0103</td>\n",
       "      <td>S0097</td>\n",
       "      <td>2017-02-26</td>\n",
       "      <td>27707.0</td>\n",
       "      <td>52622.002</td>\n",
       "      <td>280.0</td>\n",
       "      <td>98</td>\n",
       "      <td>0</td>\n",
       "      <td>21</td>\n",
       "      <td>0</td>\n",
       "      <td>0.0</td>\n",
       "      <td>0</td>\n",
       "      <td>2.65</td>\n",
       "    </tr>\n",
       "    <tr>\n",
       "      <th>361951</th>\n",
       "      <td>P0103</td>\n",
       "      <td>S0097</td>\n",
       "      <td>2017-02-05</td>\n",
       "      <td>13885.0</td>\n",
       "      <td>26387.440</td>\n",
       "      <td>368.0</td>\n",
       "      <td>98</td>\n",
       "      <td>0</td>\n",
       "      <td>21</td>\n",
       "      <td>0</td>\n",
       "      <td>0.0</td>\n",
       "      <td>0</td>\n",
       "      <td>2.65</td>\n",
       "    </tr>\n",
       "    <tr>\n",
       "      <th>361952</th>\n",
       "      <td>P0103</td>\n",
       "      <td>S0097</td>\n",
       "      <td>2017-02-12</td>\n",
       "      <td>13883.0</td>\n",
       "      <td>26377.551</td>\n",
       "      <td>486.0</td>\n",
       "      <td>98</td>\n",
       "      <td>0</td>\n",
       "      <td>21</td>\n",
       "      <td>0</td>\n",
       "      <td>0.0</td>\n",
       "      <td>0</td>\n",
       "      <td>2.65</td>\n",
       "    </tr>\n",
       "    <tr>\n",
       "      <th>...</th>\n",
       "      <td>...</td>\n",
       "      <td>...</td>\n",
       "      <td>...</td>\n",
       "      <td>...</td>\n",
       "      <td>...</td>\n",
       "      <td>...</td>\n",
       "      <td>...</td>\n",
       "      <td>...</td>\n",
       "      <td>...</td>\n",
       "      <td>...</td>\n",
       "      <td>...</td>\n",
       "      <td>...</td>\n",
       "      <td>...</td>\n",
       "    </tr>\n",
       "    <tr>\n",
       "      <th>1278223</th>\n",
       "      <td>P0328</td>\n",
       "      <td>S0070</td>\n",
       "      <td>2019-07-14</td>\n",
       "      <td>0.0</td>\n",
       "      <td>0.000</td>\n",
       "      <td>63.0</td>\n",
       "      <td>98</td>\n",
       "      <td>0</td>\n",
       "      <td>21</td>\n",
       "      <td>0</td>\n",
       "      <td>0.0</td>\n",
       "      <td>0</td>\n",
       "      <td>13.00</td>\n",
       "    </tr>\n",
       "    <tr>\n",
       "      <th>1278222</th>\n",
       "      <td>P0328</td>\n",
       "      <td>S0070</td>\n",
       "      <td>2019-07-07</td>\n",
       "      <td>0.0</td>\n",
       "      <td>0.000</td>\n",
       "      <td>63.0</td>\n",
       "      <td>98</td>\n",
       "      <td>0</td>\n",
       "      <td>21</td>\n",
       "      <td>0</td>\n",
       "      <td>0.0</td>\n",
       "      <td>0</td>\n",
       "      <td>13.00</td>\n",
       "    </tr>\n",
       "    <tr>\n",
       "      <th>1278221</th>\n",
       "      <td>P0328</td>\n",
       "      <td>S0070</td>\n",
       "      <td>2019-06-30</td>\n",
       "      <td>0.0</td>\n",
       "      <td>0.000</td>\n",
       "      <td>63.0</td>\n",
       "      <td>98</td>\n",
       "      <td>0</td>\n",
       "      <td>21</td>\n",
       "      <td>0</td>\n",
       "      <td>0.0</td>\n",
       "      <td>0</td>\n",
       "      <td>13.00</td>\n",
       "    </tr>\n",
       "    <tr>\n",
       "      <th>1278220</th>\n",
       "      <td>P0328</td>\n",
       "      <td>S0070</td>\n",
       "      <td>2019-06-23</td>\n",
       "      <td>0.0</td>\n",
       "      <td>0.000</td>\n",
       "      <td>63.0</td>\n",
       "      <td>98</td>\n",
       "      <td>0</td>\n",
       "      <td>21</td>\n",
       "      <td>0</td>\n",
       "      <td>0.0</td>\n",
       "      <td>0</td>\n",
       "      <td>13.00</td>\n",
       "    </tr>\n",
       "    <tr>\n",
       "      <th>2967858</th>\n",
       "      <td>P0748</td>\n",
       "      <td>S0142</td>\n",
       "      <td>2019-11-03</td>\n",
       "      <td>0.0</td>\n",
       "      <td>0.000</td>\n",
       "      <td>64.0</td>\n",
       "      <td>56</td>\n",
       "      <td>0</td>\n",
       "      <td>12</td>\n",
       "      <td>0</td>\n",
       "      <td>0.0</td>\n",
       "      <td>0</td>\n",
       "      <td>18.90</td>\n",
       "    </tr>\n",
       "  </tbody>\n",
       "</table>\n",
       "<p>2967859 rows × 13 columns</p>\n",
       "</div>"
      ],
      "text/plain": [
       "        product_id store_id       date    sales    revenue  stock  \\\n",
       "361961       P0103    S0097 2017-04-16  43396.0  84448.191  627.0   \n",
       "361955       P0103    S0097 2017-03-05  27725.0  52667.809  452.0   \n",
       "361954       P0103    S0097 2017-02-26  27707.0  52622.002  280.0   \n",
       "361951       P0103    S0097 2017-02-05  13885.0  26387.440  368.0   \n",
       "361952       P0103    S0097 2017-02-12  13883.0  26377.551  486.0   \n",
       "...            ...      ...        ...      ...        ...    ...   \n",
       "1278223      P0328    S0070 2019-07-14      0.0      0.000   63.0   \n",
       "1278222      P0328    S0070 2019-07-07      0.0      0.000   63.0   \n",
       "1278221      P0328    S0070 2019-06-30      0.0      0.000   63.0   \n",
       "1278220      P0328    S0070 2019-06-23      0.0      0.000   63.0   \n",
       "2967858      P0748    S0142 2019-11-03      0.0      0.000   64.0   \n",
       "\n",
       "         promo_type_1  promo_bin_1  promo_type_2  promo_bin_2  \\\n",
       "361961             98            0            21            0   \n",
       "361955             98            0            21            0   \n",
       "361954             98            0            21            0   \n",
       "361951             98            0            21            0   \n",
       "361952             98            0            21            0   \n",
       "...               ...          ...           ...          ...   \n",
       "1278223            98            0            21            0   \n",
       "1278222            98            0            21            0   \n",
       "1278221            98            0            21            0   \n",
       "1278220            98            0            21            0   \n",
       "2967858            56            0            12            0   \n",
       "\n",
       "         promo_discount_2  promo_discount_type_2  price  \n",
       "361961                0.0                      0   2.65  \n",
       "361955                0.0                      0   2.65  \n",
       "361954                0.0                      0   2.65  \n",
       "361951                0.0                      0   2.65  \n",
       "361952                0.0                      0   2.65  \n",
       "...                   ...                    ...    ...  \n",
       "1278223               0.0                      0  13.00  \n",
       "1278222               0.0                      0  13.00  \n",
       "1278221               0.0                      0  13.00  \n",
       "1278220               0.0                      0  13.00  \n",
       "2967858               0.0                      0  18.90  \n",
       "\n",
       "[2967859 rows x 13 columns]"
      ]
     },
     "execution_count": 54,
     "metadata": {},
     "output_type": "execute_result"
    }
   ],
   "source": [
    "sales_sorted = weekly_data.sort_values(by=['sales'],ascending=False)\n",
    "\n",
    "sales_sorted"
   ]
  },
  {
   "cell_type": "code",
   "execution_count": 61,
   "id": "2d0fa18b",
   "metadata": {},
   "outputs": [
    {
     "data": {
      "text/html": [
       "<div>\n",
       "<style scoped>\n",
       "    .dataframe tbody tr th:only-of-type {\n",
       "        vertical-align: middle;\n",
       "    }\n",
       "\n",
       "    .dataframe tbody tr th {\n",
       "        vertical-align: top;\n",
       "    }\n",
       "\n",
       "    .dataframe thead th {\n",
       "        text-align: right;\n",
       "    }\n",
       "</style>\n",
       "<table border=\"1\" class=\"dataframe\">\n",
       "  <thead>\n",
       "    <tr style=\"text-align: right;\">\n",
       "      <th></th>\n",
       "      <th>product_id</th>\n",
       "      <th>store_id</th>\n",
       "      <th>date</th>\n",
       "      <th>sales</th>\n",
       "      <th>revenue</th>\n",
       "      <th>stock</th>\n",
       "      <th>promo_type_1</th>\n",
       "      <th>promo_bin_1</th>\n",
       "      <th>promo_type_2</th>\n",
       "      <th>promo_bin_2</th>\n",
       "      <th>promo_discount_2</th>\n",
       "      <th>promo_discount_type_2</th>\n",
       "      <th>price</th>\n",
       "    </tr>\n",
       "  </thead>\n",
       "  <tbody>\n",
       "    <tr>\n",
       "      <th>361961</th>\n",
       "      <td>P0103</td>\n",
       "      <td>S0097</td>\n",
       "      <td>2017-04-16</td>\n",
       "      <td>43396.0</td>\n",
       "      <td>84448.191</td>\n",
       "      <td>627.0</td>\n",
       "      <td>98</td>\n",
       "      <td>0</td>\n",
       "      <td>21</td>\n",
       "      <td>0</td>\n",
       "      <td>0.0</td>\n",
       "      <td>0</td>\n",
       "      <td>2.65</td>\n",
       "    </tr>\n",
       "    <tr>\n",
       "      <th>361955</th>\n",
       "      <td>P0103</td>\n",
       "      <td>S0097</td>\n",
       "      <td>2017-03-05</td>\n",
       "      <td>27725.0</td>\n",
       "      <td>52667.809</td>\n",
       "      <td>452.0</td>\n",
       "      <td>98</td>\n",
       "      <td>0</td>\n",
       "      <td>21</td>\n",
       "      <td>0</td>\n",
       "      <td>0.0</td>\n",
       "      <td>0</td>\n",
       "      <td>2.65</td>\n",
       "    </tr>\n",
       "    <tr>\n",
       "      <th>361954</th>\n",
       "      <td>P0103</td>\n",
       "      <td>S0097</td>\n",
       "      <td>2017-02-26</td>\n",
       "      <td>27707.0</td>\n",
       "      <td>52622.002</td>\n",
       "      <td>280.0</td>\n",
       "      <td>98</td>\n",
       "      <td>0</td>\n",
       "      <td>21</td>\n",
       "      <td>0</td>\n",
       "      <td>0.0</td>\n",
       "      <td>0</td>\n",
       "      <td>2.65</td>\n",
       "    </tr>\n",
       "    <tr>\n",
       "      <th>361951</th>\n",
       "      <td>P0103</td>\n",
       "      <td>S0097</td>\n",
       "      <td>2017-02-05</td>\n",
       "      <td>13885.0</td>\n",
       "      <td>26387.440</td>\n",
       "      <td>368.0</td>\n",
       "      <td>98</td>\n",
       "      <td>0</td>\n",
       "      <td>21</td>\n",
       "      <td>0</td>\n",
       "      <td>0.0</td>\n",
       "      <td>0</td>\n",
       "      <td>2.65</td>\n",
       "    </tr>\n",
       "    <tr>\n",
       "      <th>361952</th>\n",
       "      <td>P0103</td>\n",
       "      <td>S0097</td>\n",
       "      <td>2017-02-12</td>\n",
       "      <td>13883.0</td>\n",
       "      <td>26377.551</td>\n",
       "      <td>486.0</td>\n",
       "      <td>98</td>\n",
       "      <td>0</td>\n",
       "      <td>21</td>\n",
       "      <td>0</td>\n",
       "      <td>0.0</td>\n",
       "      <td>0</td>\n",
       "      <td>2.65</td>\n",
       "    </tr>\n",
       "  </tbody>\n",
       "</table>\n",
       "</div>"
      ],
      "text/plain": [
       "       product_id store_id       date    sales    revenue  stock  \\\n",
       "361961      P0103    S0097 2017-04-16  43396.0  84448.191  627.0   \n",
       "361955      P0103    S0097 2017-03-05  27725.0  52667.809  452.0   \n",
       "361954      P0103    S0097 2017-02-26  27707.0  52622.002  280.0   \n",
       "361951      P0103    S0097 2017-02-05  13885.0  26387.440  368.0   \n",
       "361952      P0103    S0097 2017-02-12  13883.0  26377.551  486.0   \n",
       "\n",
       "        promo_type_1  promo_bin_1  promo_type_2  promo_bin_2  \\\n",
       "361961            98            0            21            0   \n",
       "361955            98            0            21            0   \n",
       "361954            98            0            21            0   \n",
       "361951            98            0            21            0   \n",
       "361952            98            0            21            0   \n",
       "\n",
       "        promo_discount_2  promo_discount_type_2  price  \n",
       "361961               0.0                      0   2.65  \n",
       "361955               0.0                      0   2.65  \n",
       "361954               0.0                      0   2.65  \n",
       "361951               0.0                      0   2.65  \n",
       "361952               0.0                      0   2.65  "
      ]
     },
     "execution_count": 61,
     "metadata": {},
     "output_type": "execute_result"
    }
   ],
   "source": [
    "sales_sorted = weekly_data.sort_values(by=['sales'],ascending=False)\n",
    "\n",
    "sales_sorted.head(5)"
   ]
  },
  {
   "attachments": {},
   "cell_type": "markdown",
   "id": "625a0670",
   "metadata": {},
   "source": [
    "##### Product P0103 and Store S0097 have more sales in the given week "
   ]
  },
  {
   "cell_type": "markdown",
   "id": "f90edd29",
   "metadata": {},
   "source": []
  },
  {
   "cell_type": "code",
   "execution_count": 62,
   "id": "f11fb32b",
   "metadata": {},
   "outputs": [
    {
     "data": {
      "text/html": [
       "<div>\n",
       "<style scoped>\n",
       "    .dataframe tbody tr th:only-of-type {\n",
       "        vertical-align: middle;\n",
       "    }\n",
       "\n",
       "    .dataframe tbody tr th {\n",
       "        vertical-align: top;\n",
       "    }\n",
       "\n",
       "    .dataframe thead th {\n",
       "        text-align: right;\n",
       "    }\n",
       "</style>\n",
       "<table border=\"1\" class=\"dataframe\">\n",
       "  <thead>\n",
       "    <tr style=\"text-align: right;\">\n",
       "      <th></th>\n",
       "      <th>sales</th>\n",
       "      <th>revenue</th>\n",
       "      <th>stock</th>\n",
       "      <th>promo_type_1</th>\n",
       "      <th>promo_bin_1</th>\n",
       "      <th>promo_type_2</th>\n",
       "      <th>promo_bin_2</th>\n",
       "      <th>promo_discount_2</th>\n",
       "      <th>promo_discount_type_2</th>\n",
       "      <th>price</th>\n",
       "    </tr>\n",
       "    <tr>\n",
       "      <th>store_id</th>\n",
       "      <th></th>\n",
       "      <th></th>\n",
       "      <th></th>\n",
       "      <th></th>\n",
       "      <th></th>\n",
       "      <th></th>\n",
       "      <th></th>\n",
       "      <th></th>\n",
       "      <th></th>\n",
       "      <th></th>\n",
       "    </tr>\n",
       "  </thead>\n",
       "  <tbody>\n",
       "    <tr>\n",
       "      <th>S0085</th>\n",
       "      <td>432608.517</td>\n",
       "      <td>2156037.860</td>\n",
       "      <td>1.073722e+07</td>\n",
       "      <td>4182351</td>\n",
       "      <td>108621</td>\n",
       "      <td>975848</td>\n",
       "      <td>877</td>\n",
       "      <td>12456.0</td>\n",
       "      <td>969</td>\n",
       "      <td>1110328.67</td>\n",
       "    </tr>\n",
       "    <tr>\n",
       "      <th>S0097</th>\n",
       "      <td>322597.646</td>\n",
       "      <td>1488854.262</td>\n",
       "      <td>5.886279e+06</td>\n",
       "      <td>3588014</td>\n",
       "      <td>97047</td>\n",
       "      <td>836727</td>\n",
       "      <td>778</td>\n",
       "      <td>10941.0</td>\n",
       "      <td>875</td>\n",
       "      <td>781546.74</td>\n",
       "    </tr>\n",
       "    <tr>\n",
       "      <th>S0026</th>\n",
       "      <td>218628.704</td>\n",
       "      <td>1317370.030</td>\n",
       "      <td>5.073888e+06</td>\n",
       "      <td>3427446</td>\n",
       "      <td>91329</td>\n",
       "      <td>798455</td>\n",
       "      <td>788</td>\n",
       "      <td>11114.0</td>\n",
       "      <td>882</td>\n",
       "      <td>705836.80</td>\n",
       "    </tr>\n",
       "    <tr>\n",
       "      <th>S0062</th>\n",
       "      <td>208001.063</td>\n",
       "      <td>1299166.320</td>\n",
       "      <td>5.335818e+06</td>\n",
       "      <td>3446942</td>\n",
       "      <td>93092</td>\n",
       "      <td>803410</td>\n",
       "      <td>839</td>\n",
       "      <td>11843.0</td>\n",
       "      <td>926</td>\n",
       "      <td>711746.74</td>\n",
       "    </tr>\n",
       "    <tr>\n",
       "      <th>S0038</th>\n",
       "      <td>203208.971</td>\n",
       "      <td>1027630.080</td>\n",
       "      <td>9.239523e+06</td>\n",
       "      <td>4294213</td>\n",
       "      <td>113146</td>\n",
       "      <td>1001872</td>\n",
       "      <td>834</td>\n",
       "      <td>11914.0</td>\n",
       "      <td>938</td>\n",
       "      <td>1109437.01</td>\n",
       "    </tr>\n",
       "  </tbody>\n",
       "</table>\n",
       "</div>"
      ],
      "text/plain": [
       "               sales      revenue         stock  promo_type_1  promo_bin_1  \\\n",
       "store_id                                                                     \n",
       "S0085     432608.517  2156037.860  1.073722e+07       4182351       108621   \n",
       "S0097     322597.646  1488854.262  5.886279e+06       3588014        97047   \n",
       "S0026     218628.704  1317370.030  5.073888e+06       3427446        91329   \n",
       "S0062     208001.063  1299166.320  5.335818e+06       3446942        93092   \n",
       "S0038     203208.971  1027630.080  9.239523e+06       4294213       113146   \n",
       "\n",
       "          promo_type_2  promo_bin_2  promo_discount_2  promo_discount_type_2  \\\n",
       "store_id                                                                       \n",
       "S0085           975848          877           12456.0                    969   \n",
       "S0097           836727          778           10941.0                    875   \n",
       "S0026           798455          788           11114.0                    882   \n",
       "S0062           803410          839           11843.0                    926   \n",
       "S0038          1001872          834           11914.0                    938   \n",
       "\n",
       "               price  \n",
       "store_id              \n",
       "S0085     1110328.67  \n",
       "S0097      781546.74  \n",
       "S0026      705836.80  \n",
       "S0062      711746.74  \n",
       "S0038     1109437.01  "
      ]
     },
     "execution_count": 62,
     "metadata": {},
     "output_type": "execute_result"
    }
   ],
   "source": [
    "store_high_sales = weekly_data.groupby(['store_id']).sum()\n",
    "\n",
    "store_high_sales.sort_values(by=['sales'],ascending=False).head(5)"
   ]
  },
  {
   "cell_type": "markdown",
   "id": "f7d1b806",
   "metadata": {},
   "source": [
    "##### Store S0085 have more sales in the given Dataset"
   ]
  },
  {
   "cell_type": "markdown",
   "id": "afb225a9",
   "metadata": {},
   "source": []
  },
  {
   "cell_type": "code",
   "execution_count": 63,
   "id": "76ca06f7",
   "metadata": {},
   "outputs": [
    {
     "data": {
      "text/html": [
       "<div>\n",
       "<style scoped>\n",
       "    .dataframe tbody tr th:only-of-type {\n",
       "        vertical-align: middle;\n",
       "    }\n",
       "\n",
       "    .dataframe tbody tr th {\n",
       "        vertical-align: top;\n",
       "    }\n",
       "\n",
       "    .dataframe thead th {\n",
       "        text-align: right;\n",
       "    }\n",
       "</style>\n",
       "<table border=\"1\" class=\"dataframe\">\n",
       "  <thead>\n",
       "    <tr style=\"text-align: right;\">\n",
       "      <th></th>\n",
       "      <th>sales</th>\n",
       "      <th>revenue</th>\n",
       "      <th>stock</th>\n",
       "      <th>promo_type_1</th>\n",
       "      <th>promo_bin_1</th>\n",
       "      <th>promo_type_2</th>\n",
       "      <th>promo_bin_2</th>\n",
       "      <th>promo_discount_2</th>\n",
       "      <th>promo_discount_type_2</th>\n",
       "      <th>price</th>\n",
       "    </tr>\n",
       "    <tr>\n",
       "      <th>product_id</th>\n",
       "      <th></th>\n",
       "      <th></th>\n",
       "      <th></th>\n",
       "      <th></th>\n",
       "      <th></th>\n",
       "      <th></th>\n",
       "      <th></th>\n",
       "      <th></th>\n",
       "      <th></th>\n",
       "      <th></th>\n",
       "    </tr>\n",
       "  </thead>\n",
       "  <tbody>\n",
       "    <tr>\n",
       "      <th>P0103</th>\n",
       "      <td>881634.0</td>\n",
       "      <td>2670199.663</td>\n",
       "      <td>10196627.0</td>\n",
       "      <td>1568250</td>\n",
       "      <td>26912</td>\n",
       "      <td>383653</td>\n",
       "      <td>524</td>\n",
       "      <td>10480.0</td>\n",
       "      <td>2096</td>\n",
       "      <td>50575.25</td>\n",
       "    </tr>\n",
       "    <tr>\n",
       "      <th>P0438</th>\n",
       "      <td>565348.0</td>\n",
       "      <td>217294.200</td>\n",
       "      <td>4197712.0</td>\n",
       "      <td>1210146</td>\n",
       "      <td>0</td>\n",
       "      <td>259317</td>\n",
       "      <td>0</td>\n",
       "      <td>0.0</td>\n",
       "      <td>0</td>\n",
       "      <td>3274.75</td>\n",
       "    </tr>\n",
       "    <tr>\n",
       "      <th>P0364</th>\n",
       "      <td>277763.0</td>\n",
       "      <td>312163.560</td>\n",
       "      <td>4493133.0</td>\n",
       "      <td>1827984</td>\n",
       "      <td>4980</td>\n",
       "      <td>399390</td>\n",
       "      <td>1476</td>\n",
       "      <td>16236.0</td>\n",
       "      <td>492</td>\n",
       "      <td>19571.00</td>\n",
       "    </tr>\n",
       "    <tr>\n",
       "      <th>P0051</th>\n",
       "      <td>236744.0</td>\n",
       "      <td>175127.540</td>\n",
       "      <td>6003624.0</td>\n",
       "      <td>1642997</td>\n",
       "      <td>20216</td>\n",
       "      <td>360204</td>\n",
       "      <td>0</td>\n",
       "      <td>0.0</td>\n",
       "      <td>0</td>\n",
       "      <td>13042.40</td>\n",
       "    </tr>\n",
       "    <tr>\n",
       "      <th>P0388</th>\n",
       "      <td>215487.0</td>\n",
       "      <td>323230.500</td>\n",
       "      <td>186520.0</td>\n",
       "      <td>499548</td>\n",
       "      <td>0</td>\n",
       "      <td>107046</td>\n",
       "      <td>0</td>\n",
       "      <td>0.0</td>\n",
       "      <td>0</td>\n",
       "      <td>19497.00</td>\n",
       "    </tr>\n",
       "  </tbody>\n",
       "</table>\n",
       "</div>"
      ],
      "text/plain": [
       "               sales      revenue       stock  promo_type_1  promo_bin_1  \\\n",
       "product_id                                                                 \n",
       "P0103       881634.0  2670199.663  10196627.0       1568250        26912   \n",
       "P0438       565348.0   217294.200   4197712.0       1210146            0   \n",
       "P0364       277763.0   312163.560   4493133.0       1827984         4980   \n",
       "P0051       236744.0   175127.540   6003624.0       1642997        20216   \n",
       "P0388       215487.0   323230.500    186520.0        499548            0   \n",
       "\n",
       "            promo_type_2  promo_bin_2  promo_discount_2  \\\n",
       "product_id                                                \n",
       "P0103             383653          524           10480.0   \n",
       "P0438             259317            0               0.0   \n",
       "P0364             399390         1476           16236.0   \n",
       "P0051             360204            0               0.0   \n",
       "P0388             107046            0               0.0   \n",
       "\n",
       "            promo_discount_type_2     price  \n",
       "product_id                                   \n",
       "P0103                        2096  50575.25  \n",
       "P0438                           0   3274.75  \n",
       "P0364                         492  19571.00  \n",
       "P0051                           0  13042.40  \n",
       "P0388                           0  19497.00  "
      ]
     },
     "execution_count": 63,
     "metadata": {},
     "output_type": "execute_result"
    }
   ],
   "source": [
    "store_high_sales = weekly_data.groupby(['product_id']).sum()\n",
    "\n",
    "store_high_sales.sort_values(by=['sales'],ascending=False).head(5)"
   ]
  },
  {
   "cell_type": "markdown",
   "id": "667f7fc6",
   "metadata": {},
   "source": [
    "##### Product P0103  have more sales in the Given dataset"
   ]
  },
  {
   "cell_type": "markdown",
   "id": "becb0524",
   "metadata": {},
   "source": []
  },
  {
   "cell_type": "code",
   "execution_count": 64,
   "id": "0df37e8b",
   "metadata": {},
   "outputs": [],
   "source": [
    "# Encode Remaining Labels\n",
    "\n",
    "from sklearn.preprocessing import LabelEncoder\n",
    "le = LabelEncoder()\n",
    "weekly_data['product_id'] = le.fit_transform(weekly_data['product_id'])\n",
    "weekly_data['store_id'] = le.fit_transform(weekly_data['store_id'])\n",
    "weekly_data['date'] = le.fit_transform(weekly_data['date'])"
   ]
  },
  {
   "cell_type": "code",
   "execution_count": 65,
   "id": "21c69cf3",
   "metadata": {
    "scrolled": true
   },
   "outputs": [
    {
     "data": {
      "text/html": [
       "<div>\n",
       "<style scoped>\n",
       "    .dataframe tbody tr th:only-of-type {\n",
       "        vertical-align: middle;\n",
       "    }\n",
       "\n",
       "    .dataframe tbody tr th {\n",
       "        vertical-align: top;\n",
       "    }\n",
       "\n",
       "    .dataframe thead th {\n",
       "        text-align: right;\n",
       "    }\n",
       "</style>\n",
       "<table border=\"1\" class=\"dataframe\">\n",
       "  <thead>\n",
       "    <tr style=\"text-align: right;\">\n",
       "      <th></th>\n",
       "      <th>product_id</th>\n",
       "      <th>store_id</th>\n",
       "      <th>sales</th>\n",
       "      <th>revenue</th>\n",
       "      <th>stock</th>\n",
       "    </tr>\n",
       "  </thead>\n",
       "  <tbody>\n",
       "    <tr>\n",
       "      <th>0</th>\n",
       "      <td>0</td>\n",
       "      <td>0</td>\n",
       "      <td>2.0</td>\n",
       "      <td>11.02</td>\n",
       "      <td>0.0</td>\n",
       "    </tr>\n",
       "    <tr>\n",
       "      <th>1</th>\n",
       "      <td>0</td>\n",
       "      <td>0</td>\n",
       "      <td>0.0</td>\n",
       "      <td>0.00</td>\n",
       "      <td>0.0</td>\n",
       "    </tr>\n",
       "    <tr>\n",
       "      <th>2</th>\n",
       "      <td>0</td>\n",
       "      <td>0</td>\n",
       "      <td>1.0</td>\n",
       "      <td>5.51</td>\n",
       "      <td>0.0</td>\n",
       "    </tr>\n",
       "    <tr>\n",
       "      <th>3</th>\n",
       "      <td>0</td>\n",
       "      <td>0</td>\n",
       "      <td>0.0</td>\n",
       "      <td>0.00</td>\n",
       "      <td>0.0</td>\n",
       "    </tr>\n",
       "    <tr>\n",
       "      <th>4</th>\n",
       "      <td>0</td>\n",
       "      <td>0</td>\n",
       "      <td>0.0</td>\n",
       "      <td>0.00</td>\n",
       "      <td>0.0</td>\n",
       "    </tr>\n",
       "  </tbody>\n",
       "</table>\n",
       "</div>"
      ],
      "text/plain": [
       "   product_id  store_id  sales  revenue  stock\n",
       "0           0         0    2.0    11.02    0.0\n",
       "1           0         0    0.0     0.00    0.0\n",
       "2           0         0    1.0     5.51    0.0\n",
       "3           0         0    0.0     0.00    0.0\n",
       "4           0         0    0.0     0.00    0.0"
      ]
     },
     "execution_count": 65,
     "metadata": {},
     "output_type": "execute_result"
    }
   ],
   "source": [
    "sales_kmeans = weekly_data.drop(['date','price','promo_type_1','promo_bin_1','promo_type_2','promo_bin_2','promo_discount_2','promo_discount_type_2'],axis = 1)\n",
    "sales_kmeans.head(5)"
   ]
  },
  {
   "cell_type": "markdown",
   "id": "db541043",
   "metadata": {},
   "source": [
    "# Cluster Analysis"
   ]
  },
  {
   "cell_type": "code",
   "execution_count": null,
   "id": "d700d019",
   "metadata": {},
   "outputs": [],
   "source": [
    "from sklearn.cluster import KMeans\n",
    "\n",
    "km = KMeans(n_clusters=5)\n",
    "\n",
    "km.fit_predict(sales_kmeans)"
   ]
  },
  {
   "cell_type": "code",
   "execution_count": null,
   "id": "fde2a9ba",
   "metadata": {},
   "outputs": [],
   "source": [
    "from sklearn.metrics import silhouette_score\n",
    "\n",
    "score = silhouette_score(sales_kmeans, km.labels_, metric='euclidean')\n",
    "\n",
    "print('Silhouetter Score: %.3f' % score)"
   ]
  },
  {
   "cell_type": "markdown",
   "id": "cbd7708d",
   "metadata": {},
   "source": []
  }
 ],
 "metadata": {
  "kernelspec": {
   "display_name": "Python 3",
   "language": "python",
   "name": "python3"
  },
  "language_info": {
   "codemirror_mode": {
    "name": "ipython",
    "version": 3
   },
   "file_extension": ".py",
   "mimetype": "text/x-python",
   "name": "python",
   "nbconvert_exporter": "python",
   "pygments_lexer": "ipython3",
   "version": "3.8.8"
  }
 },
 "nbformat": 4,
 "nbformat_minor": 5
}
